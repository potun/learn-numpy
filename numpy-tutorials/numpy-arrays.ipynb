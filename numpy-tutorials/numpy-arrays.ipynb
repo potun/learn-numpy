{
 "cells": [
  {
   "cell_type": "code",
   "execution_count": 2,
   "metadata": {},
   "outputs": [
    {
     "name": "stdout",
     "output_type": "stream",
     "text": [
      "[0 1 2 3 4 5 6 7 8 9]\n",
      "[ 0  1  4  9 16 25 36 49 64 81]\n",
      "[ 0  2  4  6  8 10 12 14 16 18]\n",
      "285 <class 'numpy.int64'>\n"
     ]
    }
   ],
   "source": [
    "import numpy as np\n",
    "\n",
    "x = np.arange(10)\n",
    "y = x ** 2\n",
    "z = 2 * x\n",
    "a = x @ np.transpose(x)\n",
    "print(x)\n",
    "print(y)\n",
    "print(z)\n",
    "print(a, type(a))"
   ]
  },
  {
   "cell_type": "code",
   "execution_count": 3,
   "metadata": {},
   "outputs": [],
   "source": [
    "np.savez(\"x_y-squared.npz\", x_axis=x, y_axis=y)"
   ]
  },
  {
   "cell_type": "code",
   "execution_count": 4,
   "metadata": {},
   "outputs": [
    {
     "name": "stdout",
     "output_type": "stream",
     "text": [
      "Variable   Type       Data/Info\n",
      "-------------------------------\n",
      "a          int64      285\n",
      "np         module     <module 'numpy' from '/ho<...>kages/numpy/__init__.py'>\n",
      "x          ndarray    10: 10 elems, type `int64`, 80 bytes\n",
      "y          ndarray    10: 10 elems, type `int64`, 80 bytes\n",
      "z          ndarray    10: 10 elems, type `int64`, 80 bytes\n",
      "Variable   Type       Data/Info\n",
      "-------------------------------\n",
      "a          int64      285\n",
      "np         module     <module 'numpy' from '/ho<...>kages/numpy/__init__.py'>\n",
      "z          ndarray    10: 10 elems, type `int64`, 80 bytes\n"
     ]
    }
   ],
   "source": [
    "%whos\n",
    "del x,y\n",
    "%whos"
   ]
  },
  {
   "cell_type": "code",
   "execution_count": 16,
   "metadata": {},
   "outputs": [
    {
     "name": "stdout",
     "output_type": "stream",
     "text": [
      "['x_axis', 'y_axis']\n",
      "Variable    Type       Data/Info\n",
      "--------------------------------\n",
      "a           int64      285\n",
      "array_out   ndarray    10x2: 20 elems, type `int64`, 160 bytes\n",
      "load_xy     NpzFile    NpzFile 'x_y-squared.npz'<...>with keys: x_axis, y_axis\n",
      "np          module     <module 'numpy' from '/ho<...>kages/numpy/__init__.py'>\n",
      "x           ndarray    10: 10 elems, type `float64`, 80 bytes\n",
      "y           ndarray    10: 10 elems, type `float64`, 80 bytes\n",
      "z           ndarray    10: 10 elems, type `int64`, 80 bytes\n"
     ]
    }
   ],
   "source": [
    "load_xy = np.load(\"x_y-squared.npz\")\n",
    "\n",
    "print(load_xy.files)\n",
    "%whos"
   ]
  },
  {
   "cell_type": "code",
   "execution_count": 17,
   "metadata": {},
   "outputs": [
    {
     "name": "stdout",
     "output_type": "stream",
     "text": [
      "[0 1 2 3 4 5 6 7 8 9]\n",
      "[ 0  1  4  9 16 25 36 49 64 81]\n",
      "3\n"
     ]
    }
   ],
   "source": [
    "x = load_xy[\"x_axis\"]\n",
    "y = load_xy[\"y_axis\"]\n",
    "print(x)\n",
    "print(y)"
   ]
  },
  {
   "cell_type": "markdown",
   "metadata": {},
   "source": [
    "Python dictionaries are indexed by keys, which can be any immutable type; strings and numbers can always be keys.\n",
    "```\n",
    "urban_dictionary = {}\n",
    "urban_dictionary['bet'] = 'for sure or okay'\n",
    "```"
   ]
  },
  {
   "cell_type": "code",
   "execution_count": 19,
   "metadata": {},
   "outputs": [
    {
     "name": "stdout",
     "output_type": "stream",
     "text": [
      "[0 1 2 3 4 5 6 7 8 9]\n",
      "3\n"
     ]
    }
   ],
   "source": [
    "print(load_xy[\"x_axis\"])\n",
    "print(load_xy[\"x_axis\"][3])"
   ]
  },
  {
   "cell_type": "code",
   "execution_count": 7,
   "metadata": {},
   "outputs": [
    {
     "name": "stdout",
     "output_type": "stream",
     "text": [
      "the output array has shape  (10, 2)  with values:\n",
      "[[ 0  0]\n",
      " [ 1  1]\n",
      " [ 2  4]\n",
      " [ 3  9]\n",
      " [ 4 16]\n",
      " [ 5 25]\n",
      " [ 6 36]\n",
      " [ 7 49]\n",
      " [ 8 64]\n",
      " [ 9 81]]\n"
     ]
    }
   ],
   "source": [
    "array_out = np.block([x[:, np.newaxis], y[:, np.newaxis]])\n",
    "print(\"the output array has shape \", array_out.shape, \" with values:\")\n",
    "print(array_out)"
   ]
  },
  {
   "cell_type": "code",
   "execution_count": 9,
   "metadata": {},
   "outputs": [
    {
     "name": "stdout",
     "output_type": "stream",
     "text": [
      "[0. 1. 2. 3. 4. 5. 6. 7. 8. 9.]\n",
      "[ 0.  1.  4.  9. 16. 25. 36. 49. 64. 81.]\n"
     ]
    }
   ],
   "source": [
    "np.savetxt(\"x_y-squared.csv\", X=array_out, header=\"x, y\", delimiter=\",\")\n",
    "del x, y\n",
    "load_xy = np.loadtxt(\"x_y-squared.csv\", delimiter=\",\")\n",
    "x = load_xy[:, 0]\n",
    "y = load_xy[:, 1]\n",
    "print(x)\n",
    "print(y)"
   ]
  },
  {
   "cell_type": "code",
   "execution_count": 14,
   "metadata": {},
   "outputs": [
    {
     "ename": "IndexError",
     "evalue": "only integers, slices (`:`), ellipsis (`...`), numpy.newaxis (`None`) and integer or boolean arrays are valid indices",
     "output_type": "error",
     "traceback": [
      "\u001b[0;31m---------------------------------------------------------------------------\u001b[0m",
      "\u001b[0;31mIndexError\u001b[0m                                Traceback (most recent call last)",
      "\u001b[1;32m/workspaces/learn-numpy/numpy-tutorials/numpy-arrays.ipynb Cell 8\u001b[0m line \u001b[0;36m1\n\u001b[0;32m----> <a href='vscode-notebook-cell://codespaces%2Bfantastic-spork-xp6w74gppr72jx/workspaces/learn-numpy/numpy-tutorials/numpy-arrays.ipynb#X10sdnNjb2RlLXJlbW90ZQ%3D%3D?line=0'>1</a>\u001b[0m z \u001b[39m=\u001b[39m load_xy[\u001b[39m\"\u001b[39;49m\u001b[39mx_axis\u001b[39;49m\u001b[39m\"\u001b[39;49m]\n",
      "\u001b[0;31mIndexError\u001b[0m: only integers, slices (`:`), ellipsis (`...`), numpy.newaxis (`None`) and integer or boolean arrays are valid indices"
     ]
    }
   ],
   "source": [
    "z = load_xy[\"x_axis\"]\n"
   ]
  }
 ],
 "metadata": {
  "kernelspec": {
   "display_name": "Python 3",
   "language": "python",
   "name": "python3"
  },
  "language_info": {
   "codemirror_mode": {
    "name": "ipython",
    "version": 3
   },
   "file_extension": ".py",
   "mimetype": "text/x-python",
   "name": "python",
   "nbconvert_exporter": "python",
   "pygments_lexer": "ipython3",
   "version": "3.10.8"
  }
 },
 "nbformat": 4,
 "nbformat_minor": 2
}
